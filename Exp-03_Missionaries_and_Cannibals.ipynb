{
  "nbformat": 4,
  "nbformat_minor": 0,
  "metadata": {
    "colab": {
      "provenance": []
    },
    "kernelspec": {
      "name": "python3",
      "display_name": "Python 3"
    },
    "language_info": {
      "name": "python"
    }
  },
  "cells": [
    {
      "cell_type": "code",
      "source": [
        "# Define the initial state of the problem\n",
        "initial_state = (3, 3, 1)\n",
        "\n",
        "# Define the goal state of the problem\n",
        "goal_state = (0, 0, 0)\n",
        "\n",
        "# Define the set of rules for the production system\n",
        "rules = [\n",
        "    # Rule 1: Move 2 missionaries\n",
        "    (lambda state: state[0] >= 2, lambda state: (state[0] - 2, state[1], 0)),\n",
        "    # Rule 2: Move 2 cannibals\n",
        "    (lambda state: state[1] >= 2, lambda state: (state[0], state[1] - 2, 0)),\n",
        "    # Rule 3: Move 1 missionary and 1 cannibal\n",
        "    (lambda state: state[0] >= 1 and state[1] >= 1, lambda state: (state[0] - 1, state[1] - 1, 0)),\n",
        "    # Rule 4: Move 1 missionary\n",
        "    (lambda state: state[0] >= 1, lambda state: (state[0] - 1, state[1], 0)),\n",
        "    # Rule 5: Move 1 cannibal\n",
        "    (lambda state: state[1] >= 1, lambda state: (state[0], state[1] - 1, 0)),\n",
        "    # Rule 6: Move 2 missionaries back\n",
        "    (lambda state: state[0] <= 1 and state[1] <= 2 and state[2] == 0, lambda state: (state[0] + 2, state[1], 1)),\n",
        "    # Rule 7: Move 2 cannibals back\n",
        "    (lambda state: state[0] <= 2 and state[1] <= 1 and state[2] == 0, lambda state: (state[0], state[1] + 2, 1)),\n",
        "    # Rule 8: Move 1 missionary and 1 cannibal back\n",
        "    (lambda state: state[0] <= 2 and state[1] <= 2 and state[2] == 0, lambda state: (state[0] + 1, state[1] + 1, 1)),\n",
        "    # Rule 9: Move 1 missionary back\n",
        "    (lambda state: state[0] <= 2 and state[2] == 0, lambda state: (state[0] + 1, state[1], 1)),\n",
        "    # Rule 10: Move 1 cannibal back\n",
        "    (lambda state: state[1] <= 2 and state[2] == 0, lambda state: (state[0], state[1] + 1, 1))\n",
        "]\n",
        "\n",
        "# Define the production system function\n",
        "def production_system(state, rules):\n",
        "    for rule in rules:\n",
        "        if rule[0](state):\n",
        "            new_state = rule[1](state)\n",
        "            return new_state\n",
        "    return None\n",
        "\n",
        "# Solve the problem using the production system approach\n",
        "current_state = initial_state\n",
        "path = [current_state]\n",
        "\n",
        "while current_state != goal_state:\n",
        "    new_state = production_system(current_state, rules)\n",
        "    if new_state is None:\n",
        "        break\n",
        "    path.append(new_state)\n",
        "    current_state = new_state\n",
        "\n",
        "# Print the solution path\n",
        "for state in path:\n",
        "    print(state)\n"
      ],
      "metadata": {
        "colab": {
          "base_uri": "https://localhost:8080/"
        },
        "id": "JOCJzH2QwcMK",
        "outputId": "34a9cda1-2983-464f-9bc4-c1fbe52ce09f"
      },
      "execution_count": 14,
      "outputs": [
        {
          "output_type": "stream",
          "name": "stdout",
          "text": [
            "(3, 3, 1)\n",
            "(1, 3, 0)\n",
            "(1, 1, 0)\n",
            "(0, 0, 0)\n"
          ]
        }
      ]
    }
  ]
}