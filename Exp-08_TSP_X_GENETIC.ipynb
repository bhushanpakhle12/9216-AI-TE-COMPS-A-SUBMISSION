{
  "nbformat": 4,
  "nbformat_minor": 0,
  "metadata": {
    "colab": {
      "provenance": []
    },
    "kernelspec": {
      "name": "python3",
      "display_name": "Python 3"
    },
    "language_info": {
      "name": "python"
    }
  },
  "cells": [
    {
      "cell_type": "code",
      "source": [
        "import random\n",
        "\n",
        "# Define the cities as a list of tuples\n",
        "cities = [(0, 0), (1, 5), (2, 3), (5, 1), (6, 6), (8, 0)]\n",
        "\n",
        "# Define the parameters for the Genetic Algorithm\n",
        "POPULATION_SIZE = 100\n",
        "NUM_GENERATIONS = 100\n",
        "MUTATION_RATE = 0.1\n",
        "\n",
        "# Define the fitness function for a given route\n",
        "def calculate_fitness(route):\n",
        "    total_distance = 0\n",
        "    for i in range(len(route)):\n",
        "        j = (i + 1) % len(route)\n",
        "        city_i = route[i]\n",
        "        city_j = route[j]\n",
        "        distance = ((city_i[0] - city_j[0]) ** 2 + (city_i[1] - city_j[1]) ** 2) ** 0.5\n",
        "        total_distance += distance\n",
        "    fitness = 1 / total_distance\n",
        "    return fitness\n",
        "\n",
        "# Define the crossover function to create new routes\n",
        "def crossover(route1, route2):\n",
        "    crossover_point = random.randint(1, len(route1) - 1)\n",
        "    new_route = route1[:crossover_point] + [city for city in route2 if city not in route1[:crossover_point]]\n",
        "    return new_route\n",
        "\n",
        "# Define the mutation function to modify a route\n",
        "def mutate(route):\n",
        "    for i in range(len(route)):\n",
        "        if random.random() < MUTATION_RATE:\n",
        "            j = random.randint(0, len(route) - 1)\n",
        "            route[i], route[j] = route[j], route[i]\n",
        "    return route\n",
        "\n",
        "# Generate an initial population of routes\n",
        "population = []\n",
        "for i in range(POPULATION_SIZE):\n",
        "    route = random.sample(cities, len(cities))\n",
        "    population.append(route)\n",
        "\n",
        "# Evolve the population through multiple generations\n",
        "for generation in range(NUM_GENERATIONS):\n",
        "    # Calculate the fitness of each route\n",
        "    fitness_scores = [(route, calculate_fitness(route)) for route in population]\n",
        "    # Sort the routes by fitness in descending order\n",
        "    sorted_routes = sorted(fitness_scores, key=lambda x: x[1], reverse=True)\n",
        "    # Select the top routes to mate\n",
        "    top_routes = [route for route, fitness in sorted_routes[:10]]\n",
        "    # Create a new population by crossing over and mutating the top routes\n",
        "    new_population = []\n",
        "    for i in range(POPULATION_SIZE):\n",
        "        route1 = random.choice(top_routes)\n",
        "        route2 = random.choice(top_routes)\n",
        "        new_route = crossover(route1, route2)\n",
        "        new_route = mutate(new_route)\n",
        "        new_population.append(new_route)\n",
        "    # Replace the old population with the new population\n",
        "    population = new_population\n",
        "\n",
        "# Print the best route found\n",
        "best_route = sorted_routes[0][0]\n",
        "print(\"Best Route:\", best_route)\n",
        "print(\"Distance:\", 1 / sorted_routes[0][1])\n"
      ],
      "metadata": {
        "colab": {
          "base_uri": "https://localhost:8080/"
        },
        "id": "TatXQmkm261r",
        "outputId": "a91c0891-343b-4503-a9a1-8a1cad038467"
      },
      "execution_count": 7,
      "outputs": [
        {
          "output_type": "stream",
          "name": "stdout",
          "text": [
            "Best Route: [(5, 1), (0, 0), (2, 3), (1, 5), (6, 6), (8, 0)]\n",
            "Distance: 25.526491260654485\n"
          ]
        }
      ]
    }
  ]
}