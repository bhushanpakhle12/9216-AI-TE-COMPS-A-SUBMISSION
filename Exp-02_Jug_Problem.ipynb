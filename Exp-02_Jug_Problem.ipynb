{
  "nbformat": 4,
  "nbformat_minor": 0,
  "metadata": {
    "colab": {
      "provenance": []
    },
    "kernelspec": {
      "name": "python3",
      "display_name": "Python 3"
    },
    "language_info": {
      "name": "python"
    }
  },
  "cells": [
    {
      "cell_type": "code",
      "execution_count": null,
      "metadata": {
        "colab": {
          "base_uri": "https://localhost:8080/"
        },
        "id": "JQ9ma_JMLlwA",
        "outputId": "93bd9502-3895-4331-bd0a-7ba7a2c6b03e"
      },
      "outputs": [
        {
          "output_type": "stream",
          "name": "stdout",
          "text": [
            "(8, 0, 0)\n",
            "(5, 0, 3)\n",
            "(5, 3, 0)\n",
            "(2, 3, 3)\n",
            "(2, 5, 1)\n",
            "(7, 0, 1)\n",
            "(7, 1, 0)\n",
            "(4, 1, 3) \n",
            "\n",
            "\n"
          ]
        }
      ],
      "source": [
        "capacity=(8,5,3)\n",
        "x = capacity[0]\n",
        "y = capacity[1]\n",
        "z = capacity[2]\n",
        "\n",
        "#funtion to check if goal state is attained\n",
        "def goal(s):\n",
        "  if(s[0]==4 or s[1]==4):\n",
        "    return True\n",
        "  return False\n",
        " \n",
        "#dictionary to maintain parent of each node\n",
        "parent={}\n",
        "\n",
        "#list to append next state of each node\n",
        "L=[]\n",
        "def next_states2(state):\n",
        "    a = state[0]\n",
        "    b = state[1]\n",
        "    c = state[2]\n",
        "    if(a>0):\n",
        "      #empty a into b\n",
        "        if(a+b>y):\n",
        "            L.append((a-(y-b),y,c))\n",
        "            \n",
        "        else:\n",
        "            L.append((0,a+b,c))\n",
        "      #empty a into c\n",
        "        if(a+c>z):\n",
        "            L.append((a-(z-c),b,z))\n",
        "        else:\n",
        "            L.append((0,b,a+c))\n",
        "  #empty jug b\n",
        "    if(b>0):\n",
        "      #empty b into a\n",
        "        if(a+b>x):\n",
        "            L.append((x, b-(x-a), c))\n",
        "        else:\n",
        "            L.append((a+b, 0, c))\n",
        "            \n",
        "      #empty b into c\n",
        "        if(b+c>z):\n",
        "            L.append((a, 0, b+c))\n",
        "        else:\n",
        "            L.append((a, b-(z-c), z))\n",
        "  #empty jug c\n",
        "    if(c>0):\n",
        "      #empty c into a\n",
        "        if(a+c>x):\n",
        "            L.append((x, b, c-(x-a)))\n",
        "        else:\n",
        "            L.append((a+c, b, 0))\n",
        "            \n",
        "        if(b+c>y):\n",
        "            L.append((a, y, c-(y-b)))\n",
        "        else:\n",
        "            L.append((a, b+c, 0))\n",
        "            \n",
        "    return L\n",
        "\n",
        "def path(s,p):\n",
        "    if(s!=initial_state):\n",
        "        p.append(parent[s])\n",
        "        path(parent[s],p)\n",
        "        return p\n",
        "\n",
        "def bfs(state):\n",
        "  p=[]\n",
        "  q=[]\n",
        "  q.append(state)\n",
        "  visited=[]\n",
        "  while(len(q)!=0):\n",
        "    s=q.pop(0)\n",
        "    if(goal(s)):\n",
        "      \n",
        "      p=path(s,p)\n",
        "      for e in reversed(p):\n",
        "        print(e)\n",
        "      print(s,'\\n\\n')\n",
        "      break\n",
        "    lis=next_states2(s)\n",
        "    for i in lis:\n",
        "      if(i not in visited and i not in parent.values()):\n",
        "        visited.append(i)\n",
        "        q.append(i)\n",
        "        parent[i]=s\n",
        "    \n",
        "initial_state = (8,0,0)\n",
        "bfs(initial_state)"
      ]
    }
  ]
}